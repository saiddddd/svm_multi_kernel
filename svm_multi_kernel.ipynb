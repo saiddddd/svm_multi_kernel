{
 "cells": [
  {
   "cell_type": "code",
   "execution_count": null,
   "id": "e9466299",
   "metadata": {},
   "outputs": [],
   "source": []
  },
  {
   "cell_type": "code",
   "execution_count": 4,
   "id": "0456485e",
   "metadata": {},
   "outputs": [
    {
     "name": "stdout",
     "output_type": "stream",
     "text": [
      "Kernel RBF - Accuracy: 0.9474, F1 Score: 0.9465\n",
      "Kernel Gabungan (dioptimalkan) - Accuracy: 0.9825, F1 Score: 0.9824\n"
     ]
    }
   ],
   "source": [
    "import numpy as np\n",
    "from sklearn import datasets\n",
    "from sklearn.svm import SVC\n",
    "from sklearn.model_selection import train_test_split\n",
    "from sklearn.metrics import accuracy_score, f1_score\n",
    "from sklearn.feature_selection import SelectKBest, f_classif\n",
    "\n",
    "# Load dataset Breast Cancer Wisconsin\n",
    "data = datasets.load_breast_cancer()\n",
    "X = data.data\n",
    "y = data.target\n",
    "\n",
    "# Split dataset menjadi train dan test set\n",
    "X_train, X_test, y_train, y_test = train_test_split(X, y, test_size=0.2, random_state=42)\n",
    "\n",
    "# Seleksi fitur dengan ANOVA F-statistic\n",
    "num_features_to_select = 10  # Ubah sesuai kebutuhan\n",
    "selector = SelectKBest(f_classif, k=num_features_to_select)\n",
    "X_train_selected = selector.fit_transform(X_train, y_train)\n",
    "X_test_selected = selector.transform(X_test)\n",
    "\n",
    "# Latih SVM dengan kernel RBF\n",
    "clf_rbf = SVC(kernel='rbf', gamma='scale')\n",
    "clf_rbf.fit(X_train_selected, y_train)\n",
    "\n",
    "# Prediksi pada test set dengan kernel RBF\n",
    "y_pred_rbf = clf_rbf.predict(X_test_selected)\n",
    "\n",
    "# Hitung akurasi dan f1_score dengan kernel RBF\n",
    "accuracy_rbf = accuracy_score(y_test, y_pred_rbf)\n",
    "f1_rbf = f1_score(y_test, y_pred_rbf, average='weighted')\n",
    "print(f\"Kernel RBF - Accuracy: {accuracy_rbf:.4f}, F1 Score: {f1_rbf:.4f}\")\n",
    "\n",
    "# Fungsi untuk kernel gabungan yang dioptimalkan\n",
    "def optimized_combined_kernel(X, Y):\n",
    "    # Kernel Linier\n",
    "    K_lin = np.dot(X, Y.T)\n",
    "    \n",
    "    # Kernel RBF dengan gamma yang dioptimalkan\n",
    "    gamma = 0.01\n",
    "    squared_distance = np.sum(X**2, 1).reshape(-1, 1) + np.sum(Y**2, 1) - 2 * np.dot(X, Y.T)\n",
    "    K_rbf = np.exp(-gamma * squared_distance)\n",
    "    \n",
    "    # Gabungan kernel linier dan RBF\n",
    "    beta = 0.5\n",
    "    return beta * K_lin + (1 - beta) * K_rbf\n",
    "\n",
    "# Latih SVM dengan kernel gabungan yang dioptimalkan\n",
    "clf_combined_optimized = SVC(kernel=optimized_combined_kernel)\n",
    "clf_combined_optimized.fit(X_train_selected, y_train)\n",
    "\n",
    "# Prediksi pada test set dengan kernel gabungan yang dioptimalkan\n",
    "y_pred_combined_optimized = clf_combined_optimized.predict(X_test_selected)\n",
    "\n",
    "# Hitung akurasi dan f1_score dengan kernel gabungan yang dioptimalkan\n",
    "accuracy_combined_optimized = accuracy_score(y_test, y_pred_combined_optimized)\n",
    "f1_combined_optimized = f1_score(y_test, y_pred_combined_optimized, average='weighted')\n",
    "print(f\"Kernel Gabungan (dioptimalkan) - Accuracy: {accuracy_combined_optimized:.4f}, F1 Score: {f1_combined_optimized:.4f}\")"
   ]
  },
  {
   "cell_type": "code",
   "execution_count": null,
   "id": "d8b4ca6d",
   "metadata": {},
   "outputs": [],
   "source": []
  },
  {
   "cell_type": "code",
   "execution_count": null,
   "id": "7954c307",
   "metadata": {},
   "outputs": [],
   "source": []
  },
  {
   "cell_type": "code",
   "execution_count": null,
   "id": "6afe79ca",
   "metadata": {},
   "outputs": [],
   "source": []
  },
  {
   "cell_type": "code",
   "execution_count": null,
   "id": "a7365261",
   "metadata": {},
   "outputs": [],
   "source": []
  }
 ],
 "metadata": {
  "kernelspec": {
   "display_name": "Python 3 (ipykernel)",
   "language": "python",
   "name": "python3"
  },
  "language_info": {
   "codemirror_mode": {
    "name": "ipython",
    "version": 3
   },
   "file_extension": ".py",
   "mimetype": "text/x-python",
   "name": "python",
   "nbconvert_exporter": "python",
   "pygments_lexer": "ipython3",
   "version": "3.11.4"
  },
  "varInspector": {
   "cols": {
    "lenName": 16,
    "lenType": 16,
    "lenVar": 40
   },
   "kernels_config": {
    "python": {
     "delete_cmd_postfix": "",
     "delete_cmd_prefix": "del ",
     "library": "var_list.py",
     "varRefreshCmd": "print(var_dic_list())"
    },
    "r": {
     "delete_cmd_postfix": ") ",
     "delete_cmd_prefix": "rm(",
     "library": "var_list.r",
     "varRefreshCmd": "cat(var_dic_list()) "
    }
   },
   "types_to_exclude": [
    "module",
    "function",
    "builtin_function_or_method",
    "instance",
    "_Feature"
   ],
   "window_display": false
  }
 },
 "nbformat": 4,
 "nbformat_minor": 5
}
